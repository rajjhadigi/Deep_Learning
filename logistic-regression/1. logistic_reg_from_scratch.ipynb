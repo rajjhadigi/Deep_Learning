{
 "cells": [
  {
   "cell_type": "code",
   "execution_count": 65,
   "metadata": {},
   "outputs": [],
   "source": [
    "import numpy as np\n",
    "from sklearn.datasets import load_iris\n",
    "from sklearn.preprocessing import StandardScaler\n",
    "from sklearn.model_selection import train_test_split"
   ]
  },
  {
   "cell_type": "markdown",
   "metadata": {},
   "source": [
    "#### **Logistic regression from scratch**"
   ]
  },
  {
   "cell_type": "code",
   "execution_count": 81,
   "metadata": {},
   "outputs": [],
   "source": [
    "class LogisticRegression:\n",
    "    def __init__(self):\n",
    "        self.W = None\n",
    "        self.b = None\n",
    "\n",
    "    @staticmethod\n",
    "    def sigmoid(x):\n",
    "        return 1/(1+np.exp(-x))\n",
    "    \n",
    "\n",
    "    def init_weights(self, dim):\n",
    "        \"\"\"\n",
    "            This function will initialize the weights and biases as 0\n",
    "            Params:\n",
    "                dim : size of the W vector we want (or number of parameters in this case)\n",
    "        \"\"\"\n",
    "        self.W = np.zeros((dim,1))\n",
    "        self.b = 0.0\n",
    "\n",
    "    \n",
    "    def propagate(self, X,Y):\n",
    "        \"\"\"\n",
    "            Implement the cost function and its gradient for the propagation\n",
    "            Params:\n",
    "                X : data of size (features,no_of_examples)\n",
    "                Y : true \"label\" (contains 0 or 1) of size(1, no_of_examples)\n",
    "            Returns:\n",
    "                cost -- negative log-likelihood cost for logistic regression\n",
    "                dw -- gradient of the loss with respect to w, thus same shape as w\n",
    "                db -- gradient of the loss with respect to b, thus same shape as b\n",
    "        \"\"\"\n",
    "        m = X.shape[1]\n",
    "\n",
    "        # Forward propagation\n",
    "        A = self.sigmoid(np.dot(self.W.T,X)+self.b)\n",
    "        cost = -1/m*np.sum(Y*np.log(A) + (1-Y)*np.log(1-A))\n",
    "\n",
    "        # Backward propagation\n",
    "        dw = 1/m*np.dot(X,(A-Y).T)\n",
    "        db = 1/m*np.sum(A-Y)\n",
    "\n",
    "        cost = np.squeeze(cost) # To make sure cost is a scalar\n",
    "\n",
    "        grads = {'dw':dw,'db':db}\n",
    "        return grads, cost\n",
    "\n",
    "\n",
    "\n",
    "    def optimize(self, X, Y, num_iterations=100, learning_rate=0.009, print_cost=False):\n",
    "        \"\"\"\n",
    "            This function optimizes W and b by running a gradient descent algorithm\n",
    "\n",
    "            Params: \n",
    "                X : data of size (features,no_of_examples)\n",
    "                Y : true \"label\" (contains 0 or 1) of size(1, no_of_examples)\n",
    "                num_iterations -- number of iterations of the optimization loop\n",
    "                learning_rate -- learning rate of the gradient descent update rule\n",
    "                print_cost -- True to print the loss every 100 steps\n",
    "        \"\"\"\n",
    "        costs = []\n",
    "        \n",
    "        for i in range(num_iterations):\n",
    "            \n",
    "            grads, cost = self.propagate(X,Y)\n",
    "            dw = grads['dw']\n",
    "            db = grads['db']\n",
    "\n",
    "            self.W = self.W - learning_rate*dw\n",
    "            self.b = self.b - learning_rate*db\n",
    "\n",
    "            if i%100 == 0:\n",
    "                costs.append(cost)\n",
    "                if print_cost:\n",
    "                    print(\"Cost after iteration %i: %f\" % (i, cost))\n",
    "\n",
    "        return costs\n",
    "\n",
    "\n",
    "    def fit(self, X_train, Y_train, num_iterations=2000, learning_rate=0.5, print_cost=False):\n",
    "        self.init_weights(X_train.shape[0])\n",
    "        costs = self.optimize(X_train,Y_train,num_iterations, learning_rate, print_cost)\n",
    "        return costs\n",
    "\n",
    "    def predict(self, X):\n",
    "        m = X.shape[1]\n",
    "        y_prediction = np.zeros((1,m))\n",
    "        self.W = self.W.reshape(X.shape[0],1)\n",
    "\n",
    "        A = self.sigmoid(np.dot(self.W.T,X)+self.b)\n",
    "\n",
    "        for i in range(A.shape[1]):\n",
    "            if A[0, i] > 0.5:\n",
    "                y_prediction[0, i] = 1\n",
    "            else:\n",
    "                y_prediction[0, i] = 0\n",
    "\n",
    "        return y_prediction"
   ]
  },
  {
   "cell_type": "code",
   "execution_count": 82,
   "metadata": {},
   "outputs": [],
   "source": [
    "# Load the Iris dataset\n",
    "iris = load_iris()\n",
    "X = iris.data.T\n",
    "y = (iris.target != 0).astype(int).reshape(1, -1)"
   ]
  },
  {
   "cell_type": "code",
   "execution_count": 83,
   "metadata": {},
   "outputs": [],
   "source": [
    "# Split the data into training and testing sets\n",
    "X_train, X_test, y_train, y_test = train_test_split(X.T, y.T, test_size=0.2, random_state=42)\n",
    "\n",
    "# Standardize the data\n",
    "scaler = StandardScaler()\n",
    "X_train = scaler.fit_transform(X_train)\n",
    "X_test = scaler.transform(X_test)\n"
   ]
  },
  {
   "cell_type": "code",
   "execution_count": 84,
   "metadata": {},
   "outputs": [
    {
     "name": "stdout",
     "output_type": "stream",
     "text": [
      "Cost after iteration 0: 0.693147\n",
      "Cost after iteration 100: 0.020102\n",
      "Cost after iteration 200: 0.011371\n",
      "Cost after iteration 300: 0.008144\n",
      "Cost after iteration 400: 0.006422\n",
      "Cost after iteration 500: 0.005338\n",
      "Cost after iteration 600: 0.004588\n",
      "Cost after iteration 700: 0.004036\n",
      "Cost after iteration 800: 0.003610\n",
      "Cost after iteration 900: 0.003272\n",
      "Cost after iteration 1000: 0.002996\n",
      "Cost after iteration 1100: 0.002766\n",
      "Cost after iteration 1200: 0.002571\n",
      "Cost after iteration 1300: 0.002404\n",
      "Cost after iteration 1400: 0.002258\n",
      "Cost after iteration 1500: 0.002131\n",
      "Cost after iteration 1600: 0.002018\n",
      "Cost after iteration 1700: 0.001917\n",
      "Cost after iteration 1800: 0.001827\n",
      "Cost after iteration 1900: 0.001745\n"
     ]
    },
    {
     "data": {
      "text/plain": [
       "[0.6931471805599453,\n",
       " 0.020102396984104477,\n",
       " 0.011371255422543398,\n",
       " 0.008143504746967954,\n",
       " 0.006421518829501064,\n",
       " 0.0053380255952847466,\n",
       " 0.00458812873768828,\n",
       " 0.004035715430123156,\n",
       " 0.003610426673458686,\n",
       " 0.003272059976866944,\n",
       " 0.002995900161624338,\n",
       " 0.0027658790366114007,\n",
       " 0.0025710777915113744,\n",
       " 0.002403805750071797,\n",
       " 0.0022584826188466857,\n",
       " 0.0021309567902317653,\n",
       " 0.0020180728527082964,\n",
       " 0.0019173878497756444,\n",
       " 0.0018269796771848326,\n",
       " 0.0017453144085890879]"
      ]
     },
     "execution_count": 84,
     "metadata": {},
     "output_type": "execute_result"
    }
   ],
   "source": [
    "lr_model = LogisticRegression()\n",
    "lr_model.fit(X_train.T, y_train.T, print_cost=True)"
   ]
  },
  {
   "cell_type": "code",
   "execution_count": 85,
   "metadata": {},
   "outputs": [
    {
     "name": "stdout",
     "output_type": "stream",
     "text": [
      "train accuracy: 55.55555555555556\n",
      "test accuracy: 55.55555555555556\n"
     ]
    }
   ],
   "source": [
    "y_prediction_train = lr_model.predict(X_train.T)\n",
    "y_prediction_test = lr_model.predict(X_test.T)\n",
    "\n",
    "print(f\"train accuracy: {100 - np.mean(np.abs(y_prediction_train - y_train)) * 100}\")\n",
    "print(f\"test accuracy: {100-np.mean(np.abs(y_prediction_test - y_test)) * 100}\")"
   ]
  }
 ],
 "metadata": {
  "kernelspec": {
   "display_name": "Python 3",
   "language": "python",
   "name": "python3"
  },
  "language_info": {
   "codemirror_mode": {
    "name": "ipython",
    "version": 3
   },
   "file_extension": ".py",
   "mimetype": "text/x-python",
   "name": "python",
   "nbconvert_exporter": "python",
   "pygments_lexer": "ipython3",
   "version": "3.10.12"
  }
 },
 "nbformat": 4,
 "nbformat_minor": 2
}
